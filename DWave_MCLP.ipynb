{
 "cells": [
  {
   "cell_type": "code",
   "execution_count": null,
   "id": "81b43242",
   "metadata": {},
   "outputs": [],
   "source": [
    "'''\n",
    "Applying dwave-ocean-sdk (Quantum Annealer) to solve MCLP problem\n",
    "Problem Statement:\n",
    "Given N demand points and M service centers,find the least centers that can serve all demand points. \n",
    "Specifically, each center has a specific capacity, whereas each demand has a specific demand degree (weight).\n",
    "'''"
   ]
  },
  {
   "cell_type": "code",
   "execution_count": null,
   "id": "c38bf35c",
   "metadata": {},
   "outputs": [],
   "source": [
    "#Number demand points and centers\n",
    "num_demands = 17\n",
    "num_centers = 5\n",
    "\n",
    "#Weights of demand points, and capacity of centes (all centers have the same capabity： 25)\n",
    "demand_weights = [3,4,5,6,7,4,2,3,4,5,6,3,5,4,3,5,1]\n",
    "center_capacity = 25\n",
    "\n",
    "#Locations of demand points and centers\n",
    "demandCoordinates = [(88, 16),(25, 76),(69, 13),(73, 56),(80, 100),(22, 92),(32, 84),(73, 46),(29, 10),(92, 32),(44, 44),(55, 26),(71, 27),(51, 91),(89, 54),(43, 28),(40, 78)]\n",
    "centerCoordinates = [(32, 60),(69, 33),(49, 40),(72, 81),(61, 65)]\n",
    "\n",
    "#Euclidean distances between centers and demand points\n",
    "import numpy as np\n",
    "distances = np.zeros((17, 5))\n",
    "for i in range(len(demandCoordinates)):\n",
    "    for j in range(len(centerCoordinates)):\n",
    "        distances[i][j] = np.sqrt(\n",
    "            (demandCoordinates[i][0] - centerCoordinates[j][0]) ** 2 + \n",
    "            (demandCoordinates[i][1] - centerCoordinates[j][1]) ** 2)\n",
    "        \n",
    "print(\"Problem: Allocate demand points of total weight of {} into centers of capacity {}.\".format(\n",
    "      sum(demand_weights), center_capacity)) "
   ]
  },
  {
   "cell_type": "code",
   "execution_count": null,
   "id": "99979d45",
   "metadata": {},
   "outputs": [],
   "source": [
    "#Define the Constrained Quadratic Model\n",
    "from dimod import ConstrainedQuadraticModel\n",
    "from dimod import Binary\n",
    "cqm = ConstrainedQuadraticModel()\n",
    "\n",
    "#dDefine the variable to indicate whether a center is selected\n",
    "center_used = [Binary(f'center_used_{j}') for j in range(num_centers)]\n",
    "\n",
    "#Define the variable to indicate whether a demand point_i in center_j\n",
    "demand_in_center = [[Binary(f'demand_{i}_in_center_{j}') for j in range(num_centers)] for i in range(num_demands)]\n",
    "\n",
    "#Calculate the total weright of allocated demand points\n",
    "def total_demand_weights():\n",
    "    res = 0\n",
    "    for i in range(num_demands):\n",
    "        for j in range(num_centers):\n",
    "            res += demand_in_center[i][j] * demand_weights[i]\n",
    "    return res\n",
    "\n",
    "#Set the objective function: Minimize the selected centers while maximize the allocated demand points\n",
    "cqm.set_objective(sum(center_used) - total_demand_weights())\n",
    "#Note that if we hope that minimize the number of selected centers is more important, we can give it a coefficient such as 20.\n",
    "#On the contrary, if we hope the total weights of arranged demands could be larger, we can give total_demand_weights() a coefficient."
   ]
  },
  {
   "cell_type": "code",
   "execution_count": null,
   "id": "20e54c4d",
   "metadata": {},
   "outputs": [],
   "source": [
    "#Add constraints to the model\n",
    "\n",
    "#First: each demand point can be allocated to only one center\n",
    "for i in range(num_demands):\n",
    "    one_center_per_demand = cqm.add_constraint(sum(demand_in_center[i]) - 1 <= 0, label=f'demand_allocated_{i}')\n",
    "    \n",
    "#Second: the capacity of center is limited to 25\n",
    "for j in range(num_centers):\n",
    "    demand_to_center_capacity = cqm.add_constraint(sum(demand_weights[i] * demand_in_center[i][j] for i in range(num_demands)) - center_used[j] * center_capacity <= 0,\n",
    "                                                  label = f'capacity_center_{j}')\n",
    "\n",
    "#Third: the distance between the center and demand points is constrainted to $delta (e.g. 50)\n",
    "for j in range(num_centers):\n",
    "    for i in range(num_demands):\n",
    "        demand_to_center_distance = cqm.add_constraint(distances[i][j] * demand_in_center[i][j] - 50 <= 9, label = f'distance_of_demand_{i}_to_center_{j}')"
   ]
  },
  {
   "cell_type": "code",
   "execution_count": null,
   "id": "135c2c88",
   "metadata": {},
   "outputs": [],
   "source": [
    "#Solve the model using LeapHybridQMSampler\n",
    "from dwave.system import LeapHybridCQMSampler\n",
    "sampler = LeapHybridCQMSampler()\n",
    "\n",
    "sampleset = sampler.sample_cqm(cqm,\n",
    "                               time_limit=180,\n",
    "                               label=\"MCLP-Distance_Constraint\")  \n",
    "feasible_sampleset = sampleset.filter(lambda row: row.is_feasible)  \n",
    "if len(feasible_sampleset):      \n",
    "   best = feasible_sampleset.first\n",
    "   print(\"{} feasible solutions of {}.\".format(\n",
    "      len(feasible_sampleset), len(sampleset)))"
   ]
  },
  {
   "cell_type": "code",
   "execution_count": null,
   "id": "403ac3eb",
   "metadata": {},
   "outputs": [],
   "source": [
    "#Find the selected centers\n",
    "selected_centers = [key for key, val in best.sample.items() if 'center_used' in key and val]\n",
    "\n",
    "def get_indices(name):\n",
    "    return [int(digs) for digs in name.split('_') if digs.isdigit()]\n",
    "\n",
    "for center in selected_centers:                        \n",
    "     in_center = [key for key, val in best.sample.items() if \"_in_center\" in key and get_indices(key)[1] == get_indices(center)[0] and val]\n",
    "     if (len(in_center) > 0):\n",
    "        b = get_indices(in_center[0])[1]\n",
    "        w = [demand_weights[get_indices(item)[0]] for item in in_center]\n",
    "        print(\"Center {} has weights {} for a total of {}.\".format(b, w, sum(w)))"
   ]
  }
 ],
 "metadata": {
  "kernelspec": {
   "display_name": "Python 3 (ipykernel)",
   "language": "python",
   "name": "python3"
  },
  "language_info": {
   "codemirror_mode": {
    "name": "ipython",
    "version": 3
   },
   "file_extension": ".py",
   "mimetype": "text/x-python",
   "name": "python",
   "nbconvert_exporter": "python",
   "pygments_lexer": "ipython3",
   "version": "3.9.12"
  }
 },
 "nbformat": 4,
 "nbformat_minor": 5
}
